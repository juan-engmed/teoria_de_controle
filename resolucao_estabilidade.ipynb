{
  "nbformat": 4,
  "nbformat_minor": 0,
  "metadata": {
    "colab": {
      "name": "JUAN FELIPE SOUZA OLIVEIRA - SegundoTVCControle.ipynb",
      "provenance": [],
      "collapsed_sections": []
    },
    "kernelspec": {
      "name": "python3",
      "display_name": "Python 3"
    }
  },
  "cells": [
    {
      "cell_type": "markdown",
      "metadata": {
        "id": "IWeuB8ochoma"
      },
      "source": [
        "Questão1) Considere:\n",
        "\n",
        "$G_1(s) = K \\cdot \\frac{s+0.1}{s+0.5}$\n",
        "\n",
        "$G_2(s) = \\frac{10}{s \\cdot (s+1)}$\n",
        "\n",
        "$H(s)=1$\n",
        "\n",
        "A função de transf. de ramo direto, FTRD, é $G_1(s) \\cdot G_2(s)$.\n",
        "\n",
        "A função de transf. de malha aberta, FTMA, é $G_1(s) \\cdot G_2(s) \\cdot H(s)$.\n",
        "\n",
        "a) Calcule o valor do ganho K para que a Margem de Fase seja $50^o$.\n",
        "\n",
        "b) Qual é margem de ganho, frequencia de cruzamento de ganho e frequencia de cruzamento de fase do sistema para o ganho K calculado na letra A.\n",
        "\n",
        "$\\underline{\\text{Observação}: } Resolva a letra a e b manualmente e cole na célula abaixo o documento digitalizado.\n",
        "\n",
        "c) Desenvolva um programa em Python para calcular o valor K. E, a partir do valor de K, calcular a margem de ganho, frequencia de cruzamento de ganho e a frequencia de cruzaento de fase.\n"
      ]
    },
    {
      "cell_type": "code",
      "metadata": {
        "id": "HAShIHy4hHpU"
      },
      "source": [
        "!pip install control"
      ],
      "execution_count": null,
      "outputs": []
    },
    {
      "cell_type": "code",
      "metadata": {
        "colab": {
          "base_uri": "https://localhost:8080/"
        },
        "id": "Cp9VkN5khMVJ",
        "outputId": "30827d97-fe87-42bb-bea1-465677f9e1a0"
      },
      "source": [
        "import numpy as np\r\n",
        "from control import *\r\n",
        "\r\n",
        "#Dado no enunciado a margem de fase (MF) = 50°\r\n",
        "MF = 50\r\n",
        "#Cálculo da margem da fase é dada por: MF = 180 - phi\r\n",
        "phi = MF - 180\r\n",
        "\r\n",
        "\r\n",
        "#-90 arctan(10wcg)  -arctan(wcg) -arctan(wwcg) = phi\r\n",
        "\r\n",
        "#Teremos: -90 arctan(10wcg)  -arctan(wcg) -arctan(wwcg) = phi\r\n",
        "\r\n",
        "# arctan(10wcg)  -arctan(wcg) -arctan(2wcg) = A\r\n",
        "A = phi + 90\r\n",
        "\r\n",
        "# tan(A) * (1.4 wcg^2 + 0.05) / (-0.35* wcg + wcg^3) = 0\r\n",
        "\r\n",
        "\r\n",
        "tanA = np.tan(A*np.pi/180)\r\n",
        "raizes = np.roots(np.array([1, 1.4*tanA, -0.35 , 0.05*tanA]))\r\n",
        "wcg = raizes[0]\r\n",
        "\r\n",
        "# |GH|wcg = 1\r\n",
        "# wcg^6 + 1.25wcg^4 + 0.25wcg^2 - 100Kwcg^2 -K^2 = O\r\n",
        "\r\n",
        "B = pow(wcg,6) + (1.25*pow(wcg,4)) +(0.25*pow(wcg,2))\r\n",
        "C = (100*pow(wcg,2))-1\r\n",
        "\r\n",
        "K = np.sqrt(B/C)\r\n",
        "\r\n",
        "#K = (wcg * np.sqrt(pow(wcg,2) +1)* np.sqrt(pow(wcg,2) + 0.25))/(10 * np.sqrt(pow(wcg,2) +0.01))\r\n",
        "\r\n",
        "\r\n",
        "print(\"k = \", K)\r\n",
        "print(\"wcg = \",wcg)\r\n",
        "\r\n",
        "\r\n",
        "#Conclusão da Questão utilizando margin(gh)\r\n",
        "\r\n",
        "num = [10*K, K]\r\n",
        "den = [1,1.5,0.5,0]\r\n",
        "\r\n",
        "gh = tf(num,den)\r\n",
        "\r\n",
        "[Mg, MF, wcf, wcg] = margin(gh)\r\n",
        "\r\n",
        "print(f\"A margem de ganho é {Mg:7.3}\")\r\n",
        "print(f\"A margem de fase é {MF:7.3}\")\r\n",
        "print(f\"A frequencia cruzamento de ganho é {wcg:7.3} rad/s\")\r\n",
        "print(f\"A frequencia cruzamento de fase é {wcf:7.3} rad/s\")"
      ],
      "execution_count": 10,
      "outputs": [
        {
          "output_type": "stream",
          "text": [
            "k =  (0.26741003202576924+0j)\n",
            "wcg =  (1.438352694323977+0j)\n",
            "A margem de ganho é     inf\n",
            "A margem de fase é    49.9\n",
            "A frequencia cruzamento de ganho é    1.44 rad/s\n",
            "A frequencia cruzamento de fase é     nan rad/s\n"
          ],
          "name": "stdout"
        }
      ]
    },
    {
      "cell_type": "markdown",
      "metadata": {
        "id": "6F2NeyNflbBs"
      },
      "source": [
        "Questão 2) Considere:\n",
        "\n",
        "$𝐺_c(𝑠)=K_p \\cdot (1+T_d \\cdot s)$ (Controlador Proporcional)\n",
        "\n",
        "$𝐺(𝑠)=\\frac{1}{s^2}$ (Veículo Espacial)\n",
        "\n",
        "$𝐻(𝑠)=1$\n",
        "\n",
        "A função de transf. de ramo direto, FTRD, é $𝐺_c(𝑠)⋅𝐺(𝑠)$.\n",
        "\n",
        "A função de transf. de malha aberta, FTMA, é $𝐺_c(𝑠)⋅𝐺(𝑠)⋅𝐻(𝑠)$.\n",
        "\n",
        "Utilizando o Python, faça o que se pede:\n",
        "\n",
        "a) Determine o valor de $K_p$ e $T_d$ para que o sistema em malha fechada tenha uma banda passante entre 0.4 e 0.5 rad/s e a margem de fase do sistema seja de $50^o$.\n",
        "\n",
        "b) Calcule a Margem de Ganho, Margem de Fase, Freq. Cruzamento de Fase e Freq. de Cruzamento de Ganho do sistema.\n",
        "\n",
        "\n"
      ]
    },
    {
      "cell_type": "code",
      "metadata": {
        "colab": {
          "base_uri": "https://localhost:8080/"
        },
        "id": "omwkHbrmhWnm",
        "outputId": "d6ca0038-b301-4718-fab9-a0a6ae069f08"
      },
      "source": [
        "import numpy as np\r\n",
        "from control import *\r\n",
        "\r\n",
        "#Dado no enunciado a margem de fase (MF) = 50°\r\n",
        "MF = 50\r\n",
        "#Cálculo da margem da fase é dada por: MF = 180 - phi\r\n",
        "phi = MF - 180\r\n",
        "\r\n",
        "#Dada a banda passante entre 0.4 e 0.5 temos a média para realizarmos a programação\r\n",
        "wcg = 0.45\r\n",
        "\r\n",
        "# 50 = 180-180+arctan(td*wcg)\r\n",
        "#arctan(td*wcg) = 50\r\n",
        "# td * wcg = tan(50)\r\n",
        "\r\n",
        "tan50 = np.tan(50*np.pi/180)\r\n",
        "Td = tan50/wcg\r\n",
        "\r\n",
        "\r\n",
        "# Dada que a frequência de cruzamento é aquela an qual |GH| = 1\r\n",
        "# Kp^2*(wcg^2Td + 1)/(wcg^4) = 1\r\n",
        "\r\n",
        "Kp = pow(wcg,2) / (np.sqrt(pow(wcg*Td,2) + 1))\r\n",
        "\r\n",
        "##Conclusão da Questão 2 utilizando margin(gh)\r\n",
        "\r\n",
        "num = [ Kp*Td , Kp ]\r\n",
        "den = [ 1, 0, 0]\r\n",
        "\r\n",
        "gh = tf(num,den)\r\n",
        "\r\n",
        "[MG, MF, wcf, wcg] = margin(gh)\r\n",
        "\r\n",
        "print(f\"O valor de Td é {Td:7.3}\")\r\n",
        "print(f\"O valor de kp é {Kp:7.3}\")\r\n",
        "print(f\"A margem de ganho é {MG:7.3}\")\r\n",
        "print(f\"A margem de fase é {MF:7.3}\")\r\n",
        "print(f\"A frequencia cruzamento de ganho é {wcg:7.3} rad/s\")\r\n",
        "print(f\"A frequencia cruzamento de fase é {wcf:7.3} rad/s\")"
      ],
      "execution_count": 11,
      "outputs": [
        {
          "output_type": "stream",
          "text": [
            "O valor de Td é    2.65\n",
            "O valor de kp é    0.13\n",
            "A margem de ganho é     inf\n",
            "A margem de fase é    50.0\n",
            "A frequencia cruzamento de ganho é    0.45 rad/s\n",
            "A frequencia cruzamento de fase é     nan rad/s\n"
          ],
          "name": "stdout"
        }
      ]
    }
  ]
}